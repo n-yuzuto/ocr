{
  "nbformat": 4,
  "nbformat_minor": 0,
  "metadata": {
    "colab": {
      "provenance": [],
      "collapsed_sections": [
        "aybxY50X7_S8"
      ]
    },
    "kernelspec": {
      "name": "python3",
      "display_name": "Python 3"
    },
    "language_info": {
      "name": "python"
    }
  },
  "cells": [
    {
      "cell_type": "markdown",
      "source": [
        "## Package Install"
      ],
      "metadata": {
        "id": "aybxY50X7_S8"
      }
    },
    {
      "cell_type": "code",
      "source": [
        "!pip install openai==0.28\n",
        "!pip install paddlepaddle paddleocr\n",
        "!pip install pdfminer.six\n",
        "!pip install pypdf2\n",
        "!pip install pdf2image\n",
        "!apt-get install -y poppler-utils"
      ],
      "metadata": {
        "colab": {
          "base_uri": "https://localhost:8080/",
          "height": 1000
        },
        "id": "KpODn1q68B7Q",
        "outputId": "e3fff08b-1608-485a-c072-55a26e69fe34"
      },
      "execution_count": 12,
      "outputs": [
        {
          "output_type": "stream",
          "name": "stdout",
          "text": [
            "Collecting openai==0.28\n",
            "  Downloading openai-0.28.0-py3-none-any.whl (76 kB)\n",
            "\u001b[?25l     \u001b[90m━━━━━━━━━━━━━━━━━━━━━━━━━━━━━━━━━━━━━━━━\u001b[0m \u001b[32m0.0/76.5 kB\u001b[0m \u001b[31m?\u001b[0m eta \u001b[36m-:--:--\u001b[0m\r\u001b[2K     \u001b[90m━━━━━━━━━━━━━━━━━━━━━━━━━━━━━━━━━━━━━━━━\u001b[0m \u001b[32m76.5/76.5 kB\u001b[0m \u001b[31m2.7 MB/s\u001b[0m eta \u001b[36m0:00:00\u001b[0m\n",
            "\u001b[?25hRequirement already satisfied: requests>=2.20 in /usr/local/lib/python3.10/dist-packages (from openai==0.28) (2.31.0)\n",
            "Requirement already satisfied: tqdm in /usr/local/lib/python3.10/dist-packages (from openai==0.28) (4.66.2)\n",
            "Requirement already satisfied: aiohttp in /usr/local/lib/python3.10/dist-packages (from openai==0.28) (3.9.3)\n",
            "Requirement already satisfied: charset-normalizer<4,>=2 in /usr/local/lib/python3.10/dist-packages (from requests>=2.20->openai==0.28) (3.3.2)\n",
            "Requirement already satisfied: idna<4,>=2.5 in /usr/local/lib/python3.10/dist-packages (from requests>=2.20->openai==0.28) (3.6)\n",
            "Requirement already satisfied: urllib3<3,>=1.21.1 in /usr/local/lib/python3.10/dist-packages (from requests>=2.20->openai==0.28) (2.0.7)\n",
            "Requirement already satisfied: certifi>=2017.4.17 in /usr/local/lib/python3.10/dist-packages (from requests>=2.20->openai==0.28) (2024.2.2)\n",
            "Requirement already satisfied: aiosignal>=1.1.2 in /usr/local/lib/python3.10/dist-packages (from aiohttp->openai==0.28) (1.3.1)\n",
            "Requirement already satisfied: attrs>=17.3.0 in /usr/local/lib/python3.10/dist-packages (from aiohttp->openai==0.28) (23.2.0)\n",
            "Requirement already satisfied: frozenlist>=1.1.1 in /usr/local/lib/python3.10/dist-packages (from aiohttp->openai==0.28) (1.4.1)\n",
            "Requirement already satisfied: multidict<7.0,>=4.5 in /usr/local/lib/python3.10/dist-packages (from aiohttp->openai==0.28) (6.0.5)\n",
            "Requirement already satisfied: yarl<2.0,>=1.0 in /usr/local/lib/python3.10/dist-packages (from aiohttp->openai==0.28) (1.9.4)\n",
            "Requirement already satisfied: async-timeout<5.0,>=4.0 in /usr/local/lib/python3.10/dist-packages (from aiohttp->openai==0.28) (4.0.3)\n",
            "Installing collected packages: openai\n",
            "  Attempting uninstall: openai\n",
            "    Found existing installation: openai 1.12.0\n",
            "    Uninstalling openai-1.12.0:\n",
            "      Successfully uninstalled openai-1.12.0\n",
            "Successfully installed openai-0.28.0\n"
          ]
        },
        {
          "output_type": "display_data",
          "data": {
            "application/vnd.colab-display-data+json": {
              "pip_warning": {
                "packages": [
                  "openai"
                ]
              }
            }
          },
          "metadata": {}
        },
        {
          "output_type": "stream",
          "name": "stdout",
          "text": [
            "Requirement already satisfied: paddlepaddle in /usr/local/lib/python3.10/dist-packages (2.6.0)\n",
            "Requirement already satisfied: paddleocr in /usr/local/lib/python3.10/dist-packages (2.7.0.3)\n",
            "Requirement already satisfied: httpx in /usr/local/lib/python3.10/dist-packages (from paddlepaddle) (0.27.0)\n",
            "Requirement already satisfied: numpy>=1.13 in /usr/local/lib/python3.10/dist-packages (from paddlepaddle) (1.25.2)\n",
            "Requirement already satisfied: Pillow in /usr/local/lib/python3.10/dist-packages (from paddlepaddle) (10.0.1)\n",
            "Requirement already satisfied: decorator in /usr/local/lib/python3.10/dist-packages (from paddlepaddle) (4.4.2)\n",
            "Requirement already satisfied: astor in /usr/local/lib/python3.10/dist-packages (from paddlepaddle) (0.8.1)\n",
            "Requirement already satisfied: opt-einsum==3.3.0 in /usr/local/lib/python3.10/dist-packages (from paddlepaddle) (3.3.0)\n",
            "Requirement already satisfied: protobuf>=3.20.2 in /usr/local/lib/python3.10/dist-packages (from paddlepaddle) (3.20.3)\n",
            "Requirement already satisfied: shapely in /usr/local/lib/python3.10/dist-packages (from paddleocr) (2.0.3)\n",
            "Requirement already satisfied: scikit-image in /usr/local/lib/python3.10/dist-packages (from paddleocr) (0.19.3)\n",
            "Requirement already satisfied: imgaug in /usr/local/lib/python3.10/dist-packages (from paddleocr) (0.4.0)\n",
            "Requirement already satisfied: pyclipper in /usr/local/lib/python3.10/dist-packages (from paddleocr) (1.3.0.post5)\n",
            "Requirement already satisfied: lmdb in /usr/local/lib/python3.10/dist-packages (from paddleocr) (1.4.1)\n",
            "Requirement already satisfied: tqdm in /usr/local/lib/python3.10/dist-packages (from paddleocr) (4.66.2)\n",
            "Requirement already satisfied: visualdl in /usr/local/lib/python3.10/dist-packages (from paddleocr) (2.5.3)\n",
            "Requirement already satisfied: rapidfuzz in /usr/local/lib/python3.10/dist-packages (from paddleocr) (3.6.1)\n",
            "Requirement already satisfied: opencv-python<=4.6.0.66 in /usr/local/lib/python3.10/dist-packages (from paddleocr) (4.6.0.66)\n",
            "Requirement already satisfied: opencv-contrib-python<=4.6.0.66 in /usr/local/lib/python3.10/dist-packages (from paddleocr) (4.6.0.66)\n",
            "Requirement already satisfied: cython in /usr/local/lib/python3.10/dist-packages (from paddleocr) (3.0.8)\n",
            "Requirement already satisfied: lxml in /usr/local/lib/python3.10/dist-packages (from paddleocr) (4.9.4)\n",
            "Requirement already satisfied: premailer in /usr/local/lib/python3.10/dist-packages (from paddleocr) (3.10.0)\n",
            "Requirement already satisfied: openpyxl in /usr/local/lib/python3.10/dist-packages (from paddleocr) (3.1.2)\n",
            "Requirement already satisfied: attrdict in /usr/local/lib/python3.10/dist-packages (from paddleocr) (2.0.1)\n",
            "Requirement already satisfied: PyMuPDF<1.21.0 in /usr/local/lib/python3.10/dist-packages (from paddleocr) (1.20.2)\n",
            "Requirement already satisfied: pyyaml in /usr/local/lib/python3.10/dist-packages (from paddleocr) (6.0.1)\n",
            "Requirement already satisfied: python-docx in /usr/local/lib/python3.10/dist-packages (from paddleocr) (1.1.0)\n",
            "Requirement already satisfied: beautifulsoup4 in /usr/local/lib/python3.10/dist-packages (from paddleocr) (4.12.3)\n",
            "Requirement already satisfied: fonttools>=4.24.0 in /usr/local/lib/python3.10/dist-packages (from paddleocr) (4.49.0)\n",
            "Requirement already satisfied: fire>=0.3.0 in /usr/local/lib/python3.10/dist-packages (from paddleocr) (0.5.0)\n",
            "Requirement already satisfied: pdf2docx in /usr/local/lib/python3.10/dist-packages (from paddleocr) (0.5.8)\n",
            "Requirement already satisfied: six in /usr/local/lib/python3.10/dist-packages (from fire>=0.3.0->paddleocr) (1.16.0)\n",
            "Requirement already satisfied: termcolor in /usr/local/lib/python3.10/dist-packages (from fire>=0.3.0->paddleocr) (2.4.0)\n",
            "Requirement already satisfied: soupsieve>1.2 in /usr/local/lib/python3.10/dist-packages (from beautifulsoup4->paddleocr) (2.5)\n",
            "Requirement already satisfied: anyio in /usr/local/lib/python3.10/dist-packages (from httpx->paddlepaddle) (3.7.1)\n",
            "Requirement already satisfied: certifi in /usr/local/lib/python3.10/dist-packages (from httpx->paddlepaddle) (2024.2.2)\n",
            "Requirement already satisfied: httpcore==1.* in /usr/local/lib/python3.10/dist-packages (from httpx->paddlepaddle) (1.0.4)\n",
            "Requirement already satisfied: idna in /usr/local/lib/python3.10/dist-packages (from httpx->paddlepaddle) (3.6)\n",
            "Requirement already satisfied: sniffio in /usr/local/lib/python3.10/dist-packages (from httpx->paddlepaddle) (1.3.0)\n",
            "Requirement already satisfied: h11<0.15,>=0.13 in /usr/local/lib/python3.10/dist-packages (from httpcore==1.*->httpx->paddlepaddle) (0.14.0)\n",
            "Requirement already satisfied: scipy in /usr/local/lib/python3.10/dist-packages (from imgaug->paddleocr) (1.11.4)\n",
            "Requirement already satisfied: matplotlib in /usr/local/lib/python3.10/dist-packages (from imgaug->paddleocr) (3.7.1)\n",
            "Requirement already satisfied: imageio in /usr/local/lib/python3.10/dist-packages (from imgaug->paddleocr) (2.31.6)\n",
            "Requirement already satisfied: networkx>=2.2 in /usr/local/lib/python3.10/dist-packages (from scikit-image->paddleocr) (3.2.1)\n",
            "Requirement already satisfied: tifffile>=2019.7.26 in /usr/local/lib/python3.10/dist-packages (from scikit-image->paddleocr) (2024.2.12)\n",
            "Requirement already satisfied: PyWavelets>=1.1.1 in /usr/local/lib/python3.10/dist-packages (from scikit-image->paddleocr) (1.5.0)\n",
            "Requirement already satisfied: packaging>=20.0 in /usr/local/lib/python3.10/dist-packages (from scikit-image->paddleocr) (23.2)\n",
            "Requirement already satisfied: et-xmlfile in /usr/local/lib/python3.10/dist-packages (from openpyxl->paddleocr) (1.1.0)\n",
            "Requirement already satisfied: opencv-python-headless>=4.5 in /usr/local/lib/python3.10/dist-packages (from pdf2docx->paddleocr) (4.9.0.80)\n",
            "Requirement already satisfied: typing-extensions in /usr/local/lib/python3.10/dist-packages (from python-docx->paddleocr) (4.9.0)\n",
            "Requirement already satisfied: cssselect in /usr/local/lib/python3.10/dist-packages (from premailer->paddleocr) (1.2.0)\n",
            "Requirement already satisfied: cssutils in /usr/local/lib/python3.10/dist-packages (from premailer->paddleocr) (2.9.0)\n",
            "Requirement already satisfied: requests in /usr/local/lib/python3.10/dist-packages (from premailer->paddleocr) (2.31.0)\n",
            "Requirement already satisfied: cachetools in /usr/local/lib/python3.10/dist-packages (from premailer->paddleocr) (5.3.2)\n",
            "Requirement already satisfied: bce-python-sdk in /usr/local/lib/python3.10/dist-packages (from visualdl->paddleocr) (0.9.4)\n",
            "Requirement already satisfied: flask>=1.1.1 in /usr/local/lib/python3.10/dist-packages (from visualdl->paddleocr) (2.2.5)\n",
            "Requirement already satisfied: Flask-Babel>=3.0.0 in /usr/local/lib/python3.10/dist-packages (from visualdl->paddleocr) (4.0.0)\n",
            "Requirement already satisfied: pandas in /usr/local/lib/python3.10/dist-packages (from visualdl->paddleocr) (1.5.3)\n",
            "Requirement already satisfied: rarfile in /usr/local/lib/python3.10/dist-packages (from visualdl->paddleocr) (4.1)\n",
            "Requirement already satisfied: psutil in /usr/local/lib/python3.10/dist-packages (from visualdl->paddleocr) (5.9.5)\n",
            "Requirement already satisfied: Werkzeug>=2.2.2 in /usr/local/lib/python3.10/dist-packages (from flask>=1.1.1->visualdl->paddleocr) (3.0.1)\n",
            "Requirement already satisfied: Jinja2>=3.0 in /usr/local/lib/python3.10/dist-packages (from flask>=1.1.1->visualdl->paddleocr) (3.1.3)\n",
            "Requirement already satisfied: itsdangerous>=2.0 in /usr/local/lib/python3.10/dist-packages (from flask>=1.1.1->visualdl->paddleocr) (2.1.2)\n",
            "Requirement already satisfied: click>=8.0 in /usr/local/lib/python3.10/dist-packages (from flask>=1.1.1->visualdl->paddleocr) (8.1.7)\n",
            "Requirement already satisfied: Babel>=2.12 in /usr/local/lib/python3.10/dist-packages (from Flask-Babel>=3.0.0->visualdl->paddleocr) (2.14.0)\n",
            "Requirement already satisfied: pytz>=2022.7 in /usr/local/lib/python3.10/dist-packages (from Flask-Babel>=3.0.0->visualdl->paddleocr) (2023.4)\n",
            "Requirement already satisfied: exceptiongroup in /usr/local/lib/python3.10/dist-packages (from anyio->httpx->paddlepaddle) (1.2.0)\n",
            "Requirement already satisfied: pycryptodome>=3.8.0 in /usr/local/lib/python3.10/dist-packages (from bce-python-sdk->visualdl->paddleocr) (3.20.0)\n",
            "Requirement already satisfied: future>=0.6.0 in /usr/local/lib/python3.10/dist-packages (from bce-python-sdk->visualdl->paddleocr) (0.18.3)\n",
            "Requirement already satisfied: contourpy>=1.0.1 in /usr/local/lib/python3.10/dist-packages (from matplotlib->imgaug->paddleocr) (1.2.0)\n",
            "Requirement already satisfied: cycler>=0.10 in /usr/local/lib/python3.10/dist-packages (from matplotlib->imgaug->paddleocr) (0.12.1)\n",
            "Requirement already satisfied: kiwisolver>=1.0.1 in /usr/local/lib/python3.10/dist-packages (from matplotlib->imgaug->paddleocr) (1.4.5)\n",
            "Requirement already satisfied: pyparsing>=2.3.1 in /usr/local/lib/python3.10/dist-packages (from matplotlib->imgaug->paddleocr) (3.1.1)\n",
            "Requirement already satisfied: python-dateutil>=2.7 in /usr/local/lib/python3.10/dist-packages (from matplotlib->imgaug->paddleocr) (2.8.2)\n",
            "Requirement already satisfied: charset-normalizer<4,>=2 in /usr/local/lib/python3.10/dist-packages (from requests->premailer->paddleocr) (3.3.2)\n",
            "Requirement already satisfied: urllib3<3,>=1.21.1 in /usr/local/lib/python3.10/dist-packages (from requests->premailer->paddleocr) (2.0.7)\n",
            "Requirement already satisfied: MarkupSafe>=2.0 in /usr/local/lib/python3.10/dist-packages (from Jinja2>=3.0->flask>=1.1.1->visualdl->paddleocr) (2.1.5)\n",
            "Requirement already satisfied: pdfminer.six in /usr/local/lib/python3.10/dist-packages (20231228)\n",
            "Requirement already satisfied: charset-normalizer>=2.0.0 in /usr/local/lib/python3.10/dist-packages (from pdfminer.six) (3.3.2)\n",
            "Requirement already satisfied: cryptography>=36.0.0 in /usr/local/lib/python3.10/dist-packages (from pdfminer.six) (42.0.3)\n",
            "Requirement already satisfied: cffi>=1.12 in /usr/local/lib/python3.10/dist-packages (from cryptography>=36.0.0->pdfminer.six) (1.16.0)\n",
            "Requirement already satisfied: pycparser in /usr/local/lib/python3.10/dist-packages (from cffi>=1.12->cryptography>=36.0.0->pdfminer.six) (2.21)\n",
            "Requirement already satisfied: pypdf2 in /usr/local/lib/python3.10/dist-packages (3.0.1)\n",
            "Requirement already satisfied: pdf2image in /usr/local/lib/python3.10/dist-packages (1.17.0)\n",
            "Requirement already satisfied: pillow in /usr/local/lib/python3.10/dist-packages (from pdf2image) (10.0.1)\n",
            "Reading package lists... Done\n",
            "Building dependency tree... Done\n",
            "Reading state information... Done\n",
            "poppler-utils is already the newest version (22.02.0-2ubuntu0.3).\n",
            "0 upgraded, 0 newly installed, 0 to remove and 35 not upgraded.\n"
          ]
        }
      ]
    },
    {
      "cell_type": "markdown",
      "source": [
        "## 事前準備"
      ],
      "metadata": {
        "id": "oCt1X5EX8NwG"
      }
    },
    {
      "cell_type": "code",
      "source": [
        "# OpenAI APIキーの設定\n",
        "openai_key = \"\" #@param {type:\"string\"}"
      ],
      "metadata": {
        "id": "50fWVNaw7-1V"
      },
      "execution_count": 2,
      "outputs": []
    },
    {
      "cell_type": "code",
      "execution_count": 3,
      "metadata": {
        "id": "N4tVvR667pZ8"
      },
      "outputs": [],
      "source": [
        "# 書類ジャンル (これを入力しない場合はジャンル推定処理が走る)\n",
        "# 例: 請求書, 納品書, レシート, etc...\n",
        "genre = \"\" #@param {type:\"string\"}"
      ]
    },
    {
      "cell_type": "code",
      "source": [
        "from google.colab import files\n",
        "uploaded = files.upload()\n",
        "file_path = next(iter(uploaded.keys()))"
      ],
      "metadata": {
        "id": "e5vgksEV8Ssv",
        "colab": {
          "base_uri": "https://localhost:8080/",
          "height": 77
        },
        "outputId": "52c42f8a-4a45-4514-e167-8adbd9243dd0"
      },
      "execution_count": 5,
      "outputs": [
        {
          "output_type": "display_data",
          "data": {
            "text/plain": [
              "<IPython.core.display.HTML object>"
            ],
            "text/html": [
              "\n",
              "     <input type=\"file\" id=\"files-711ec3c0-74d9-4c99-a772-82b13f2726fa\" name=\"files[]\" multiple disabled\n",
              "        style=\"border:none\" />\n",
              "     <output id=\"result-711ec3c0-74d9-4c99-a772-82b13f2726fa\">\n",
              "      Upload widget is only available when the cell has been executed in the\n",
              "      current browser session. Please rerun this cell to enable.\n",
              "      </output>\n",
              "      <script>// Copyright 2017 Google LLC\n",
              "//\n",
              "// Licensed under the Apache License, Version 2.0 (the \"License\");\n",
              "// you may not use this file except in compliance with the License.\n",
              "// You may obtain a copy of the License at\n",
              "//\n",
              "//      http://www.apache.org/licenses/LICENSE-2.0\n",
              "//\n",
              "// Unless required by applicable law or agreed to in writing, software\n",
              "// distributed under the License is distributed on an \"AS IS\" BASIS,\n",
              "// WITHOUT WARRANTIES OR CONDITIONS OF ANY KIND, either express or implied.\n",
              "// See the License for the specific language governing permissions and\n",
              "// limitations under the License.\n",
              "\n",
              "/**\n",
              " * @fileoverview Helpers for google.colab Python module.\n",
              " */\n",
              "(function(scope) {\n",
              "function span(text, styleAttributes = {}) {\n",
              "  const element = document.createElement('span');\n",
              "  element.textContent = text;\n",
              "  for (const key of Object.keys(styleAttributes)) {\n",
              "    element.style[key] = styleAttributes[key];\n",
              "  }\n",
              "  return element;\n",
              "}\n",
              "\n",
              "// Max number of bytes which will be uploaded at a time.\n",
              "const MAX_PAYLOAD_SIZE = 100 * 1024;\n",
              "\n",
              "function _uploadFiles(inputId, outputId) {\n",
              "  const steps = uploadFilesStep(inputId, outputId);\n",
              "  const outputElement = document.getElementById(outputId);\n",
              "  // Cache steps on the outputElement to make it available for the next call\n",
              "  // to uploadFilesContinue from Python.\n",
              "  outputElement.steps = steps;\n",
              "\n",
              "  return _uploadFilesContinue(outputId);\n",
              "}\n",
              "\n",
              "// This is roughly an async generator (not supported in the browser yet),\n",
              "// where there are multiple asynchronous steps and the Python side is going\n",
              "// to poll for completion of each step.\n",
              "// This uses a Promise to block the python side on completion of each step,\n",
              "// then passes the result of the previous step as the input to the next step.\n",
              "function _uploadFilesContinue(outputId) {\n",
              "  const outputElement = document.getElementById(outputId);\n",
              "  const steps = outputElement.steps;\n",
              "\n",
              "  const next = steps.next(outputElement.lastPromiseValue);\n",
              "  return Promise.resolve(next.value.promise).then((value) => {\n",
              "    // Cache the last promise value to make it available to the next\n",
              "    // step of the generator.\n",
              "    outputElement.lastPromiseValue = value;\n",
              "    return next.value.response;\n",
              "  });\n",
              "}\n",
              "\n",
              "/**\n",
              " * Generator function which is called between each async step of the upload\n",
              " * process.\n",
              " * @param {string} inputId Element ID of the input file picker element.\n",
              " * @param {string} outputId Element ID of the output display.\n",
              " * @return {!Iterable<!Object>} Iterable of next steps.\n",
              " */\n",
              "function* uploadFilesStep(inputId, outputId) {\n",
              "  const inputElement = document.getElementById(inputId);\n",
              "  inputElement.disabled = false;\n",
              "\n",
              "  const outputElement = document.getElementById(outputId);\n",
              "  outputElement.innerHTML = '';\n",
              "\n",
              "  const pickedPromise = new Promise((resolve) => {\n",
              "    inputElement.addEventListener('change', (e) => {\n",
              "      resolve(e.target.files);\n",
              "    });\n",
              "  });\n",
              "\n",
              "  const cancel = document.createElement('button');\n",
              "  inputElement.parentElement.appendChild(cancel);\n",
              "  cancel.textContent = 'Cancel upload';\n",
              "  const cancelPromise = new Promise((resolve) => {\n",
              "    cancel.onclick = () => {\n",
              "      resolve(null);\n",
              "    };\n",
              "  });\n",
              "\n",
              "  // Wait for the user to pick the files.\n",
              "  const files = yield {\n",
              "    promise: Promise.race([pickedPromise, cancelPromise]),\n",
              "    response: {\n",
              "      action: 'starting',\n",
              "    }\n",
              "  };\n",
              "\n",
              "  cancel.remove();\n",
              "\n",
              "  // Disable the input element since further picks are not allowed.\n",
              "  inputElement.disabled = true;\n",
              "\n",
              "  if (!files) {\n",
              "    return {\n",
              "      response: {\n",
              "        action: 'complete',\n",
              "      }\n",
              "    };\n",
              "  }\n",
              "\n",
              "  for (const file of files) {\n",
              "    const li = document.createElement('li');\n",
              "    li.append(span(file.name, {fontWeight: 'bold'}));\n",
              "    li.append(span(\n",
              "        `(${file.type || 'n/a'}) - ${file.size} bytes, ` +\n",
              "        `last modified: ${\n",
              "            file.lastModifiedDate ? file.lastModifiedDate.toLocaleDateString() :\n",
              "                                    'n/a'} - `));\n",
              "    const percent = span('0% done');\n",
              "    li.appendChild(percent);\n",
              "\n",
              "    outputElement.appendChild(li);\n",
              "\n",
              "    const fileDataPromise = new Promise((resolve) => {\n",
              "      const reader = new FileReader();\n",
              "      reader.onload = (e) => {\n",
              "        resolve(e.target.result);\n",
              "      };\n",
              "      reader.readAsArrayBuffer(file);\n",
              "    });\n",
              "    // Wait for the data to be ready.\n",
              "    let fileData = yield {\n",
              "      promise: fileDataPromise,\n",
              "      response: {\n",
              "        action: 'continue',\n",
              "      }\n",
              "    };\n",
              "\n",
              "    // Use a chunked sending to avoid message size limits. See b/62115660.\n",
              "    let position = 0;\n",
              "    do {\n",
              "      const length = Math.min(fileData.byteLength - position, MAX_PAYLOAD_SIZE);\n",
              "      const chunk = new Uint8Array(fileData, position, length);\n",
              "      position += length;\n",
              "\n",
              "      const base64 = btoa(String.fromCharCode.apply(null, chunk));\n",
              "      yield {\n",
              "        response: {\n",
              "          action: 'append',\n",
              "          file: file.name,\n",
              "          data: base64,\n",
              "        },\n",
              "      };\n",
              "\n",
              "      let percentDone = fileData.byteLength === 0 ?\n",
              "          100 :\n",
              "          Math.round((position / fileData.byteLength) * 100);\n",
              "      percent.textContent = `${percentDone}% done`;\n",
              "\n",
              "    } while (position < fileData.byteLength);\n",
              "  }\n",
              "\n",
              "  // All done.\n",
              "  yield {\n",
              "    response: {\n",
              "      action: 'complete',\n",
              "    }\n",
              "  };\n",
              "}\n",
              "\n",
              "scope.google = scope.google || {};\n",
              "scope.google.colab = scope.google.colab || {};\n",
              "scope.google.colab._files = {\n",
              "  _uploadFiles,\n",
              "  _uploadFilesContinue,\n",
              "};\n",
              "})(self);\n",
              "</script> "
            ]
          },
          "metadata": {}
        },
        {
          "output_type": "stream",
          "name": "stdout",
          "text": [
            "Saving 手書き文字.png to 手書き文字 (1).png\n"
          ]
        }
      ]
    },
    {
      "cell_type": "markdown",
      "source": [
        "## Functions"
      ],
      "metadata": {
        "id": "NTThoxaV7qF4"
      }
    },
    {
      "cell_type": "code",
      "source": [
        "from typing import List, Dict, Union\n",
        "from paddleocr import PaddleOCR\n",
        "from pdf2image import convert_from_path\n",
        "from PIL import Image\n",
        "import openai\n",
        "import re\n",
        "import json\n",
        "import os\n",
        "from pdfminer.converter import PDFPageAggregator\n",
        "from pdfminer.layout import LAParams, LTTextBox, LTTextLine\n",
        "from pdfminer.pdfinterp import PDFResourceManager, PDFPageInterpreter\n",
        "from pdfminer.pdfpage import PDFPage\n",
        "from pdfminer.pdfparser import PDFParser\n",
        "from pdfminer.pdfdocument import PDFDocument\n",
        "from PyPDF2 import PdfFileReader\n",
        "from pdfminer.pdffont import PDFType1Font, PDFTrueTypeFont\n",
        "\n",
        "\n",
        "def estimate_genre(ocr_text: str, openai_key: str) -> str:\n",
        "    \"\"\"\n",
        "    OCRで得たテキスト情報から書類ジャンルを推定する\n",
        "\n",
        "    Parameters\n",
        "    ----------\n",
        "    ocr_text: str\n",
        "        OCRで抽出したテキスト情報\n",
        "    openai_key: str\n",
        "        OpenAI API Key\n",
        "\n",
        "    Returns\n",
        "    -------\n",
        "    genre: str\n",
        "        書類ジャンル\n",
        "    \"\"\"\n",
        "\n",
        "    functions = [\n",
        "        {\n",
        "            \"name\": \"genre_estimate\",\n",
        "            \"description\": \"これはある書面の画像をOCRにかけたものから、書類のジャンルを推定するための処理です。OCRで抽出されたテキストは以下の形式に従います: (x座標, y座標): {OCRで抽出されたテキスト}\",\n",
        "            \"parameters\": {\n",
        "                \"type\": \"object\",\n",
        "                \"properties\": {\n",
        "                    \"genre_name\": {\n",
        "                        \"type\": \"string\",\n",
        "                        \"description\": \"ジャンル名 (例: 請求書, 領収書, 運転免許証, はがき, レポート, etc...)\"\n",
        "                    }\n",
        "                },\n",
        "                \"required\": [\"genre_name\"]\n",
        "            }\n",
        "        }\n",
        "    ]\n",
        "    result = process_with_gpt(ocr_text, functions, openai_key)\n",
        "    return result['genre_name']\n",
        "\n",
        "def get_functions_from_gpt(genre: str, openai_key: str) -> List[Dict[str, Union[str, int]]]:\n",
        "    \"\"\"\n",
        "    指定した書類ジャンルのFunction calling用Functionsを作成する\n",
        "\n",
        "    Parameters\n",
        "    ----------\n",
        "    genre: str\n",
        "        書類ジャンル\n",
        "    openai_key: str\n",
        "        OpenAI API Key\n",
        "\n",
        "    Returns\n",
        "    -------\n",
        "    functions: List[Dict[str, Union[str, int]]]\n",
        "        Function calling用Functions\n",
        "    \"\"\"\n",
        "    function_prompt = '''情報抽出システムがあります。\n",
        "規定のフォーマットを参考に、これを「xxxx」に対応したものに書き換え、その結果のみ出力してください。\n",
        "\n",
        "## 規定のフォーマット\n",
        "\n",
        "```\n",
        "functions = [\n",
        "    {\n",
        "        \"name\": \"invoice_information_extraction\",\n",
        "        \"description\": \"これは請求書のpdfをOCRにかけたものから情報を抽出するための処理です。OCRで抽出されたテキストは以下の形式に従います: (x座標, y座標): {OCRで抽出されたテキスト} また、請求書は以下の配置ルールがあります。(1) 銀行名、支店名、口座種類、口座番号は座標的に近い位置にある (2) 住所、請求元会社名、名前、電話番号、メールアドレスは座標的に近い位置にある (3) 請求元会社名は請求先とは異なり、無い場合がある (4) 郵便番号、住所は座標的に近い位置にある (5) 請求先は「御中」や「様」などの左に書かれる\\n座標を考慮しつつ情報を抽出してください。\",\n",
        "        \"parameters\": {\n",
        "            \"type\": \"object\",\n",
        "            \"properties\": {\n",
        "                \"invoice_date\": {\n",
        "                    \"type\": \"string\",\n",
        "                    \"description\": \"請求日\"\n",
        "                },\n",
        "                \"invoice_number\": {\n",
        "                    \"type\": \"string\",\n",
        "                    \"description\": \"請求番号\"\n",
        "                },\n",
        "                \"invoice_to\": {\n",
        "                    \"type\": \"string\",\n",
        "                    \"description\": \"請求先 (御中とか様は除外する)\"\n",
        "                },\n",
        "                \"billing_amount\": {\n",
        "                    \"type\": \"number\",\n",
        "                    \"description\": \"請求する金額\"\n",
        "                },\n",
        "                \"invoice_items\": {\n",
        "                    \"type\": \"array\",\n",
        "                    \"description\": \"請求品目\",\n",
        "                    \"items\": {\n",
        "                        \"type\": \"object\",\n",
        "                        \"properties\": {\n",
        "                            \"item_name\": {\n",
        "                                \"type\": \"string\",\n",
        "                                \"description\": \"請求品目名\"\n",
        "                            },\n",
        "                            \"item_count\": {\n",
        "                                \"type\": \"number\",\n",
        "                                \"description\": \"品目数量\"\n",
        "                            },\n",
        "                            \"item_unit_name\": {\n",
        "                                \"type\": \"string\",\n",
        "                                \"description\": \"品目単位名\"\n",
        "                            },\n",
        "                            \"item_unit_price\": {\n",
        "                                \"type\": \"number\",\n",
        "                                \"description\": \"品目単価\"\n",
        "                            },\n",
        "                            \"item_price\": {\n",
        "                                \"type\": \"number\",\n",
        "                                \"description\": \"品目金額\"\n",
        "                            }\n",
        "                        }\n",
        "                    }\n",
        "                },\n",
        "                \"bank_name\": {\n",
        "                    \"type\": \"string\",\n",
        "                    \"description\": \"銀行名\"\n",
        "                },\n",
        "                \"branch_name\": {\n",
        "                    \"type\": \"string\",\n",
        "                    \"description\": \"支店名\"\n",
        "                },\n",
        "                \"account_type\": {\n",
        "                    \"type\": \"string\",\n",
        "                    \"enum\": [\"普通\", \"定期\", \"当座\"],\n",
        "                    \"description\": \"口座種類\"\n",
        "                },\n",
        "                \"account_number\": {\n",
        "                    \"type\": \"string\",\n",
        "                    \"description\": \"口座番号\"\n",
        "                },\n",
        "                \"zipcode\": {\n",
        "                    \"type\": \"string\",\n",
        "                    \"description\": \"郵便番号\"\n",
        "                },\n",
        "                \"address\": {\n",
        "                    \"type\": \"string\",\n",
        "                    \"description\": \"住所\"\n",
        "                },\n",
        "                \"company_name\": {\n",
        "                    \"type\": \"string\",\n",
        "                    \"description\": \"請求元会社名\"\n",
        "                },\n",
        "                \"name\": {\n",
        "                    \"type\": \"string\",\n",
        "                    \"description\": \"名前\"\n",
        "                },\n",
        "                \"phone_number\": {\n",
        "                    \"type\": \"string\",\n",
        "                    \"description\": \"電話番号\"\n",
        "                },\n",
        "                \"email_address\": {\n",
        "                    \"type\": \"string\",\n",
        "                    \"description\": \"メールアドレス\"\n",
        "                },\n",
        "                \"remarks\": {\n",
        "                    \"type\": \"string\",\n",
        "                    \"description\": \"備考\"\n",
        "                }\n",
        "            },\n",
        "            \"required\": [\"invoice_date\"]\n",
        "        }\n",
        "    }\n",
        "]\n",
        "```'''.replace('xxxx', genre)\n",
        "    function_messages = [{\"role\": \"user\", \"content\": function_prompt}]\n",
        "\n",
        "    openai.api_key = openai_key\n",
        "    function_response = openai.ChatCompletion.create(\n",
        "        model=\"gpt-4-0613\",\n",
        "        messages=function_messages,\n",
        "        temperature=0,\n",
        "        max_tokens=1024,\n",
        "    )\n",
        "    function_text = function_response['choices'][0]['message']['content']\n",
        "\n",
        "    match = re.search(r'functions = (\\[.*\\])', function_text, re.DOTALL)\n",
        "    if match:\n",
        "        extracted_json_string = match.group(1)\n",
        "    else:\n",
        "        raise ValueError(\"No valid JSON object found\")\n",
        "\n",
        "    # json形式の文字列をPythonのリストに変換\n",
        "    functions = json.loads(extracted_json_string.replace(\"\\n\", \"\"))\n",
        "    return functions\n",
        "\n",
        "def extract_text_with_ocr(file_path: str, ocr: PaddleOCR) -> str:\n",
        "    \"\"\"\n",
        "    指定したファイルからOCRを使用してテキストを抽出する関数\n",
        "\n",
        "    Parameters\n",
        "    ----------\n",
        "    file_path: str\n",
        "        テキストを抽出するファイルのパス\n",
        "\n",
        "    Returns\n",
        "    -------\n",
        "    ocr_text: str\n",
        "        OCRで抽出したテキスト情報\n",
        "    \"\"\"\n",
        "    # ファイル拡張子を取得します\n",
        "    extension = os.path.splitext(file_path)[1]\n",
        "\n",
        "    results = []\n",
        "\n",
        "    if extension.lower() in ['.pdf']:\n",
        "        images = convert_from_path(file_path)\n",
        "        for i, image in enumerate(images, start=1):\n",
        "            print(f\"Processing page {i}\")\n",
        "            image_path = f'{i}.png'\n",
        "            image.save(image_path, 'PNG')\n",
        "            result = ocr.ocr(image_path)\n",
        "            results.append(result)\n",
        "\n",
        "    elif extension.lower() in ['.jpg', '.jpeg', '.png']:\n",
        "        print(f\"Processing image {file_path}\")\n",
        "        result = ocr.ocr(file_path)\n",
        "        results.append(result)\n",
        "\n",
        "    else:\n",
        "        print(f\"Unsupported file type {extension}\")\n",
        "\n",
        "    ocr_text = \"\"\n",
        "    for r in results[0][0]:\n",
        "        ocr_text += f\"({r[0][0][0]}, {r[0][0][1]}): {r[1][0]}\\n\"\n",
        "\n",
        "    return ocr_text\n",
        "\n",
        "def extract_text_with_pdfminer(file_path: str) -> str:\n",
        "    \"\"\"\n",
        "    指定したPDFファイルからpdfminerを使用してテキストを抽出する関数\n",
        "\n",
        "    Parameters\n",
        "    ----------\n",
        "    file_path: str\n",
        "        テキストを抽出するPDFファイルのパス\n",
        "\n",
        "    Returns\n",
        "    -------\n",
        "    ocr_text: str\n",
        "        pdfminerで抽出したテキスト情報\n",
        "    \"\"\"\n",
        "    ocr_text = \"\"\n",
        "\n",
        "    with open(file_path, 'rb') as file:\n",
        "        parser = PDFParser(file)\n",
        "        doc = PDFDocument(parser)\n",
        "\n",
        "        rsrcmgr = PDFResourceManager()\n",
        "        laparams = LAParams()\n",
        "        device = PDFPageAggregator(rsrcmgr, laparams=laparams)\n",
        "        interpreter = PDFPageInterpreter(rsrcmgr, device)\n",
        "\n",
        "        for page in PDFPage.create_pages(doc):\n",
        "            interpreter.process_page(page)\n",
        "            layout = device.get_result()\n",
        "            for element in layout:\n",
        "                if isinstance(element, LTTextBox) or isinstance(element, LTTextLine):\n",
        "                    for text_line in element:\n",
        "                        if isinstance(text_line, LTTextLine):\n",
        "                            x, y, _, _ = text_line.bbox\n",
        "                            x = round(x, 1)  # x座標を小数点第1位までに丸める\n",
        "                            y = round(y, 1)  # y座標を小数点第1位までに丸める\n",
        "                            text = f\"({x}, {y}): {text_line.get_text()}\"\n",
        "                            ocr_text += text\n",
        "\n",
        "    return ocr_text\n",
        "\n",
        "def process_with_gpt(ocr_text: str, functions: List[Dict[str, Union[str, int]]], openai_key: str) -> Dict[str, Union[str, int]]:\n",
        "    \"\"\"\n",
        "    Function calling\n",
        "\n",
        "    Parameters\n",
        "    ----------\n",
        "    ocr_text: str\n",
        "        OCRで取得したテキスト情報\n",
        "    functions: List[Dict[str, Union[str, int]]]\n",
        "        Function calling用Function\n",
        "    openai_key: str\n",
        "        OpenAI API Key\n",
        "\n",
        "    Returns\n",
        "    -------\n",
        "    result: Dict[str, Union[str, int]]\n",
        "        GPT-3.5で処理した結果\n",
        "    \"\"\"\n",
        "    messages = [{\"role\": \"user\", \"content\": ocr_text}]\n",
        "\n",
        "    openai.api_key = openai_key\n",
        "    response = openai.ChatCompletion.create(\n",
        "        model=\"gpt-3.5-turbo-0613\",\n",
        "        messages=messages,\n",
        "        functions=functions,\n",
        "        temperature=0,\n",
        "        max_tokens=1024,\n",
        "        function_call={\"name\": functions[0]['name']}\n",
        "    )\n",
        "\n",
        "    result = response[\"choices\"][0][\"message\"][\"function_call\"][\"arguments\"]\n",
        "    return json.loads(result)\n",
        "\n",
        "def check_pdf_and_font(filepath: str) -> bool:\n",
        "    \"\"\"\n",
        "    指定したファイルがPDFかつフォント埋め込みかチェックする関数\n",
        "\n",
        "    Parameters\n",
        "    ----------\n",
        "    file_path: str\n",
        "        テキストを抽出するPDFファイルのパス\n",
        "\n",
        "    Returns\n",
        "    -------\n",
        "    bool\n",
        "        pdfかつフォント埋め込みの場合True, それ以外の場合False\n",
        "    \"\"\"\n",
        "    if os.path.exists(filepath) and filepath.endswith('.pdf'):\n",
        "        try:\n",
        "            reader = PdfFileReader(filepath)\n",
        "\n",
        "            with open(filepath, 'rb') as f:\n",
        "                parser = PDFParser(f)\n",
        "                doc = PDFDocument(parser)\n",
        "\n",
        "                fonts = set()\n",
        "                for obj in doc.get_objects():\n",
        "                    if isinstance(obj, (PDFType1Font, PDFTrueTypeFont)):\n",
        "                        fonts.add(obj)\n",
        "\n",
        "                if fonts:\n",
        "                    return True\n",
        "        except:\n",
        "            pass\n",
        "\n",
        "    return False"
      ],
      "metadata": {
        "id": "gdot54T07rMS"
      },
      "execution_count": 6,
      "outputs": []
    },
    {
      "cell_type": "markdown",
      "source": [
        "## 処理"
      ],
      "metadata": {
        "id": "on38IWGi8iYY"
      }
    },
    {
      "cell_type": "code",
      "source": [
        "# OCRモデルの初期化\n",
        "ocr = PaddleOCR(lang='japan')"
      ],
      "metadata": {
        "colab": {
          "base_uri": "https://localhost:8080/"
        },
        "id": "C_PSL5-v8hra",
        "outputId": "69169e23-ec98-465b-edd9-6da04e96e2f3"
      },
      "execution_count": 21,
      "outputs": [
        {
          "output_type": "stream",
          "name": "stdout",
          "text": [
            "[2024/02/24 06:09:11] ppocr DEBUG: Namespace(help='==SUPPRESS==', use_gpu=False, use_xpu=False, use_npu=False, ir_optim=True, use_tensorrt=False, min_subgraph_size=15, precision='fp32', gpu_mem=500, gpu_id=0, image_dir=None, page_num=0, det_algorithm='DB', det_model_dir='/root/.paddleocr/whl/det/ml/Multilingual_PP-OCRv3_det_infer', det_limit_side_len=960, det_limit_type='max', det_box_type='quad', det_db_thresh=0.3, det_db_box_thresh=0.6, det_db_unclip_ratio=1.5, max_batch_size=10, use_dilation=False, det_db_score_mode='fast', det_east_score_thresh=0.8, det_east_cover_thresh=0.1, det_east_nms_thresh=0.2, det_sast_score_thresh=0.5, det_sast_nms_thresh=0.2, det_pse_thresh=0, det_pse_box_thresh=0.85, det_pse_min_area=16, det_pse_scale=1, scales=[8, 16, 32], alpha=1.0, beta=1.0, fourier_degree=5, rec_algorithm='SVTR_LCNet', rec_model_dir='/root/.paddleocr/whl/rec/japan/japan_PP-OCRv4_rec_infer', rec_image_inverse=True, rec_image_shape='3, 48, 320', rec_batch_num=6, max_text_length=25, rec_char_dict_path='/usr/local/lib/python3.10/dist-packages/paddleocr/ppocr/utils/dict/japan_dict.txt', use_space_char=True, vis_font_path='./doc/fonts/simfang.ttf', drop_score=0.5, e2e_algorithm='PGNet', e2e_model_dir=None, e2e_limit_side_len=768, e2e_limit_type='max', e2e_pgnet_score_thresh=0.5, e2e_char_dict_path='./ppocr/utils/ic15_dict.txt', e2e_pgnet_valid_set='totaltext', e2e_pgnet_mode='fast', use_angle_cls=False, cls_model_dir='/root/.paddleocr/whl/cls/ch_ppocr_mobile_v2.0_cls_infer', cls_image_shape='3, 48, 192', label_list=['0', '180'], cls_batch_num=6, cls_thresh=0.9, enable_mkldnn=False, cpu_threads=10, use_pdserving=False, warmup=False, sr_model_dir=None, sr_image_shape='3, 32, 128', sr_batch_num=1, draw_img_save_dir='./inference_results', save_crop_res=False, crop_res_save_dir='./output', use_mp=False, total_process_num=1, process_id=0, benchmark=False, save_log_path='./log_output/', show_log=True, use_onnx=False, output='./output', table_max_len=488, table_algorithm='TableAttn', table_model_dir=None, merge_no_span_structure=True, table_char_dict_path=None, layout_model_dir=None, layout_dict_path=None, layout_score_threshold=0.5, layout_nms_threshold=0.5, kie_algorithm='LayoutXLM', ser_model_dir=None, re_model_dir=None, use_visual_backbone=True, ser_dict_path='../train_data/XFUND/class_list_xfun.txt', ocr_order_method=None, mode='structure', image_orientation=False, layout=True, table=True, ocr=True, recovery=False, use_pdf2docx_api=False, invert=False, binarize=False, alphacolor=(255, 255, 255), lang='japan', det=True, rec=True, type='ocr', ocr_version='PP-OCRv4', structure_version='PP-StructureV2')\n"
          ]
        }
      ]
    },
    {
      "cell_type": "code",
      "source": [
        "# OCR処理 (ジャンル推定にも使う)\n",
        "ocr_text = extract_text_with_ocr(file_path, ocr)"
      ],
      "metadata": {
        "id": "4SGDn897BAx4",
        "colab": {
          "base_uri": "https://localhost:8080/"
        },
        "outputId": "e6bb5edd-dbc6-42f4-98ac-9d06c7a2740a"
      },
      "execution_count": 22,
      "outputs": [
        {
          "output_type": "stream",
          "name": "stdout",
          "text": [
            "Processing image 手書き文字 (1).png\n",
            "[2024/02/24 06:09:12] ppocr WARNING: Since the angle classifier is not initialized, it will not be used during the forward process\n",
            "[2024/02/24 06:09:13] ppocr DEBUG: dt_boxes num : 50, elapsed : 0.20905542373657227\n",
            "[2024/02/24 06:09:16] ppocr DEBUG: rec_res num  : 50, elapsed : 3.5058517456054688\n"
          ]
        }
      ]
    },
    {
      "cell_type": "code",
      "source": [
        "if genre == \"\":\n",
        "    genre = estimate_genre(ocr_text, openai_key)"
      ],
      "metadata": {
        "id": "OrtUO8_aBD_Y",
        "colab": {
          "base_uri": "https://localhost:8080/",
          "height": 599
        },
        "outputId": "f15c5985-54af-4f90-f972-2135903ed634"
      },
      "execution_count": 24,
      "outputs": [
        {
          "output_type": "error",
          "ename": "APIRemovedInV1",
          "evalue": "\n\nYou tried to access openai.ChatCompletion, but this is no longer supported in openai>=1.0.0 - see the README at https://github.com/openai/openai-python for the API.\n\nYou can run `openai migrate` to automatically upgrade your codebase to use the 1.0.0 interface. \n\nAlternatively, you can pin your installation to the old version, e.g. `pip install openai==0.28`\n\nA detailed migration guide is available here: https://github.com/openai/openai-python/discussions/742\n",
          "traceback": [
            "\u001b[0;31m---------------------------------------------------------------------------\u001b[0m",
            "\u001b[0;31mAPIRemovedInV1\u001b[0m                            Traceback (most recent call last)",
            "\u001b[0;32m<ipython-input-24-3eaae1712b47>\u001b[0m in \u001b[0;36m<cell line: 1>\u001b[0;34m()\u001b[0m\n\u001b[1;32m      1\u001b[0m \u001b[0;32mif\u001b[0m \u001b[0mgenre\u001b[0m \u001b[0;34m==\u001b[0m \u001b[0;34m\"\"\u001b[0m\u001b[0;34m:\u001b[0m\u001b[0;34m\u001b[0m\u001b[0;34m\u001b[0m\u001b[0m\n\u001b[0;32m----> 2\u001b[0;31m     \u001b[0mgenre\u001b[0m \u001b[0;34m=\u001b[0m \u001b[0mestimate_genre\u001b[0m\u001b[0;34m(\u001b[0m\u001b[0mocr_text\u001b[0m\u001b[0;34m,\u001b[0m \u001b[0mopenai_key\u001b[0m\u001b[0;34m)\u001b[0m\u001b[0;34m\u001b[0m\u001b[0;34m\u001b[0m\u001b[0m\n\u001b[0m",
            "\u001b[0;32m<ipython-input-6-ac765c2a36fe>\u001b[0m in \u001b[0;36mestimate_genre\u001b[0;34m(ocr_text, openai_key)\u001b[0m\n\u001b[1;32m     50\u001b[0m         }\n\u001b[1;32m     51\u001b[0m     ]\n\u001b[0;32m---> 52\u001b[0;31m     \u001b[0mresult\u001b[0m \u001b[0;34m=\u001b[0m \u001b[0mprocess_with_gpt\u001b[0m\u001b[0;34m(\u001b[0m\u001b[0mocr_text\u001b[0m\u001b[0;34m,\u001b[0m \u001b[0mfunctions\u001b[0m\u001b[0;34m,\u001b[0m \u001b[0mopenai_key\u001b[0m\u001b[0;34m)\u001b[0m\u001b[0;34m\u001b[0m\u001b[0;34m\u001b[0m\u001b[0m\n\u001b[0m\u001b[1;32m     53\u001b[0m     \u001b[0;32mreturn\u001b[0m \u001b[0mresult\u001b[0m\u001b[0;34m[\u001b[0m\u001b[0;34m'genre_name'\u001b[0m\u001b[0;34m]\u001b[0m\u001b[0;34m\u001b[0m\u001b[0;34m\u001b[0m\u001b[0m\n\u001b[1;32m     54\u001b[0m \u001b[0;34m\u001b[0m\u001b[0m\n",
            "\u001b[0;32m<ipython-input-19-f9be5c04a762>\u001b[0m in \u001b[0;36mprocess_with_gpt\u001b[0;34m(ocr_text, function_name, openai_key)\u001b[0m\n\u001b[1;32m     67\u001b[0m \u001b[0;34m\u001b[0m\u001b[0m\n\u001b[1;32m     68\u001b[0m     \u001b[0mopenai\u001b[0m\u001b[0;34m.\u001b[0m\u001b[0mapi_key\u001b[0m \u001b[0;34m=\u001b[0m \u001b[0mopenai_key\u001b[0m\u001b[0;34m\u001b[0m\u001b[0;34m\u001b[0m\u001b[0m\n\u001b[0;32m---> 69\u001b[0;31m     response = openai.ChatCompletion.create(\n\u001b[0m\u001b[1;32m     70\u001b[0m         \u001b[0mmodel\u001b[0m\u001b[0;34m=\u001b[0m\u001b[0;34m\"gpt-4\"\u001b[0m\u001b[0;34m,\u001b[0m\u001b[0;34m\u001b[0m\u001b[0;34m\u001b[0m\u001b[0m\n\u001b[1;32m     71\u001b[0m         \u001b[0mmessages\u001b[0m\u001b[0;34m=\u001b[0m\u001b[0;34m[\u001b[0m\u001b[0;34m{\u001b[0m\u001b[0;34m\"role\"\u001b[0m\u001b[0;34m:\u001b[0m \u001b[0;34m\"system\"\u001b[0m\u001b[0;34m,\u001b[0m \u001b[0;34m\"content\"\u001b[0m\u001b[0;34m:\u001b[0m \u001b[0;34m\"You are a helpful assistant.\"\u001b[0m\u001b[0;34m}\u001b[0m\u001b[0;34m,\u001b[0m \u001b[0;34m{\u001b[0m\u001b[0;34m\"role\"\u001b[0m\u001b[0;34m:\u001b[0m \u001b[0;34m\"user\"\u001b[0m\u001b[0;34m,\u001b[0m \u001b[0;34m\"content\"\u001b[0m\u001b[0;34m:\u001b[0m \u001b[0mprompt\u001b[0m\u001b[0;34m}\u001b[0m\u001b[0;34m]\u001b[0m\u001b[0;34m,\u001b[0m\u001b[0;34m\u001b[0m\u001b[0;34m\u001b[0m\u001b[0m\n",
            "\u001b[0;32m/usr/local/lib/python3.10/dist-packages/openai/lib/_old_api.py\u001b[0m in \u001b[0;36m__call__\u001b[0;34m(self, *_args, **_kwargs)\u001b[0m\n",
            "\u001b[0;31mAPIRemovedInV1\u001b[0m: \n\nYou tried to access openai.ChatCompletion, but this is no longer supported in openai>=1.0.0 - see the README at https://github.com/openai/openai-python for the API.\n\nYou can run `openai migrate` to automatically upgrade your codebase to use the 1.0.0 interface. \n\nAlternatively, you can pin your installation to the old version, e.g. `pip install openai==0.28`\n\nA detailed migration guide is available here: https://github.com/openai/openai-python/discussions/742\n"
          ]
        }
      ]
    },
    {
      "cell_type": "code",
      "source": [
        "print(genre)"
      ],
      "metadata": {
        "id": "HfXQGcYVMa39"
      },
      "execution_count": null,
      "outputs": []
    },
    {
      "cell_type": "code",
      "source": [
        "# functionsを作成\n",
        "functions = get_functions_from_gpt(genre, openai_key)"
      ],
      "metadata": {
        "id": "fySjcPui86zY"
      },
      "execution_count": null,
      "outputs": []
    },
    {
      "cell_type": "code",
      "source": [
        "print(functions)"
      ],
      "metadata": {
        "id": "1PHVz3np9XLA"
      },
      "execution_count": null,
      "outputs": []
    },
    {
      "cell_type": "code",
      "source": [
        "result = process_with_gpt(ocr_text, functions, openai_key)"
      ],
      "metadata": {
        "id": "SirFQ-yE9M7d"
      },
      "execution_count": null,
      "outputs": []
    },
    {
      "cell_type": "code",
      "source": [
        "print(ocr_text)"
      ],
      "metadata": {
        "id": "HAGcEr7C9ZP1"
      },
      "execution_count": null,
      "outputs": []
    },
    {
      "cell_type": "code",
      "source": [
        "result"
      ],
      "metadata": {
        "id": "oDWEjynPHlGB"
      },
      "execution_count": null,
      "outputs": []
    },
    {
      "cell_type": "code",
      "source": [
        "# PDFにフォントが埋め込まれていたら以下も実行\n",
        "is_pdf_with_embedded_fonts = check_pdf_and_font(file_path)\n",
        "if is_pdf_with_embedded_fonts:\n",
        "    miner_text = extract_text_with_pdfminer(file_path)\n",
        "    result2 = process_with_gpt(miner_text, functions, openai_key)"
      ],
      "metadata": {
        "id": "6LNblir-ATJJ"
      },
      "execution_count": null,
      "outputs": []
    },
    {
      "cell_type": "code",
      "source": [
        "if is_pdf_with_embedded_fonts:\n",
        "    print(miner_text)"
      ],
      "metadata": {
        "id": "E0PdguAj9d68"
      },
      "execution_count": null,
      "outputs": []
    },
    {
      "cell_type": "code",
      "source": [
        "if is_pdf_with_embedded_fonts:\n",
        "    result2"
      ],
      "metadata": {
        "id": "7vcGJdtDHpQh"
      },
      "execution_count": null,
      "outputs": []
    }
  ]
}